{
 "cells": [
  {
   "cell_type": "markdown",
   "metadata": {},
   "source": [
    "<br>\n",
    "<div><center> \n",
    "   \n",
    "<img src=\"logo facens.jpg\" width=\"300px\">\n",
    "    \n",
    "<br>\n",
    "    \n",
    "<h1>FACULDADE DE ENGENHARIA DE SOROCABA</h1>\n",
    "    \n",
    "<h1>ESPECIALIZAÇÃO EM INTELIGÊNCIA ARTIFICIAL APLICADA (MACHINE LEARNING)</h1>\n",
    "  \n",
    " <br><br>   \n",
    "    \n",
    "<h1>Reconhecimento facial para monitoramento de ambientes empresariais - PoC</h1>\n",
    "\n",
    "</center></div>\n",
    "\n",
    "<br><br>\n",
    "    \n",
    "<div align=\"right\">\n",
    "<h3>Vitor K. L. Penteado - RA 191522</h3>\n",
    "<h3>Orientadora: Prof. Patricia Mika Sakugawa</h3>\n",
    "<div> \n",
    "  \n",
    "<br><br>\n",
    "    \n",
    "<div><center>\n",
    "    \n",
    "<h3>SOROCABA/SP</h3>\n",
    "<h3>2021</h3>    "
   ]
  },
  {
   "cell_type": "markdown",
   "metadata": {},
   "source": [
    "<h2> Introdução </h2>\n",
    "\n",
    "<p> O monitoramento dos processos operacionais da empresa bem como seus bens patrimoniais vai além de promover a organização pois contribue também para um maior controle, segurança, padronização dos processos, disciplina dos funcionários bem como regulamentar as atividades de acordo com a legislação.\n",
    "\n",
    "<a href=\"https://www.treasy.com.br/blog/sgq-sistema-de-gestao-da-qualidade-total/\">Gilles B. de Paula</a>, funcionários da Treasy e responsável pela publicação da matéria \"O que é SGQ (Sistema de Gestão da Qualidade Total) e como ele pode ajudar a reduzir custos e melhorar os resultados\", menciona que \"a Gestão da Qualidade Total pode ser definida como sendo qualquer atividade coordenada para dirigir e controlar uma organização no sentido de possibilitar a melhoria de seus produtos ou serviços\".\n",
    "\n",
    "O mesmo também afirma que há 7 princípios que rege a SGQ sendo eles:</p>\n",
    "\n",
    "<img src=\"gqt.png\" width=\"600px\">\n",
    "\n",
    "<p> Dentro destes, é importante destacar o engajamento das pessoas a qual é um dos princípios da norma ISO 9001. Em seu <a href=\"https://faq-iso9001.portaliso.com/o-que-e-engajamento-das-pessoas/\">FAQ</a> é mencionado que \"pessoas competentes, com poder e engajadas, em todos os níveis da organização, são essenciais para aumentar a capacidade da organização em criar e entregar valor\" e que uma das ações mais importantes está em promover a colaboração em toda a organização.</p>\n",
    "\n",
    "<p> Seguindo esta linha, além de promover a comunicação aos colaboradores quanto a compreensão da importância de suas contribuições individuais está também em controlar e analisar os atividades que os mesmos atuam.\n",
    "       \n",
    "<p> Em seu <a href=\"https://fsense.com/pt/monitoramento-de-funcionarios-saiba-quais-sao-os-limites-permitidos/\">site</a>, a empresa Fsense, a qual atual no ramo de soluções em gerenciamento de equipes e tem como principais clientes a Cielo e Net, menciona que \"o monitoramento permite acompanhar o fluxo de execução das atividades em tempo real, com a finalidade de identificar gargalos e erros mais comuns. Assim, a partir dos dados coletados, os gestores podem elaborar maneiras de aumentar a eficiência dos processos.\"\n",
    "\n",
    "Contudo, a mesma ressalta que \"o monitoramento de funcionários não é uma medida de má-fé, apenas uma forma de resguardar a empresa contra possíveis comportamentos que a prejudiquem\".\n",
    "\n",
    "Para tal, é necessário normalizar a empresa como um todo para que seja claro os deveres e obrigações de cada colaborador e realizar, via sistemas, controles de acessos as instalações bem como o monitoramento visando fiscalizar se tais estão em concordância com as normativas.\n",
    "\n",
    "Sejam físicos ou computacionais, entre os sistemas mais utilizados estão:</p>\n",
    "\n",
    "<ul>\n",
    "    <li>Portaria</li>\n",
    "    <li>Relógio ponto eletrônico</li>\n",
    "    <li>Câmeras de segurança/vigilância</li>\n",
    "    <li>Crachás de identificação</li>\n",
    "    <li>Uniformes setorizados</li>\n",
    "    <li>Biometria / impressão digital</li>\n",
    "    <li>Reconhecimento facial</li>\n",
    "</ul>\n",
    "\n",
    "<p> A <a href=\"http://berithtecnologia.com.br/2019/04/22/importancia-do-sistema-de-monitoramento-nas-empresas/\">Berith Tecnologia</a>, empresa especializada em segurança via monitoramento por câmeras, ressalta que \"os proprietários ou CEOs precisam monitorar todo o andamento da operação da sua empresa, portanto, um sistema de monitoramento pode ajudar a manter esse controle. As câmeras podem acompanhar a movimentação de veículos e mercadorias, além de controlar o acesso das pessoas.\"</p>\n",
    "\n",
    "<p> A utilização de tais sistemas deve-se estar de acordo as necessidades da empresa bem como o acesso as tecnologias e o custo, ou seja, a relação de custo x benefício.</p>\n",
    "\n",
    "<h2>Tecnologias atuais</h2>\n",
    "\n",
    "<p> Referência no plantio de algodão e soja, o Grupo Ariel Horovitz em parceria com a <a href=\"http://agrothings.net/\">AgroThings</a> passou a monitorar em tempo real todas as suas máquinas agrícolas que trabalham em mais de 20 mil hectares nas fazendas Palmeiras e São Luiz localizadas em São Desidério/BA. Tal implantação possibilitou reduzir o consumo de combustível, diminuir os custos com manutenções e agilizar a programação das atividades.</p>\n",
    "\n",
    "<p> Outra tecnologia utilizada está na biometria para restrição de acesso. Em materia publicada em 2013 pela <a href=\"https://www.transportabrasil.com.br/2013/09/petrobras-investira-r-212-bilhoes-entre-2013-e-2017-em-tecnologia-e-seguranca-da-informacao/\">Transporta Brasil</a>, agência de comunicação especializada no transporte rodoviário de carga e de passageiros, foi informado por Maria das Graças Silva Foster, até então dirigente da Petrobras, que a empresa utiliza uma central integrada e privada de processamento de dados o qual só pode ser acessada via biometria.</p>\n",
    "\n",
    "<blockquote>\n",
    "\"No Centro de Processamento de Dados está o conhecimento de nossa companhia. As informações críticas estão armazenadas em sistema fechado, com criptografia. O acesso ao centro é controlado com biometria, pesagem e monitoramento com câmeras\" - Maria das Graças Silva Foster.\n",
    "</blockquote>\n",
    "\n",
    "<p> Porém, a utilização de tecnologias dadas como nova geração também colabora ao intensificar problemas já conhecidos como é o caso do racismo. Em matéria intitulada <a href=\"https://www1.folha.uol.com.br/mundo/2019/04/como-a-china-usa-a-inteligencia-artificial-para-rastrear-minoria-etnica.shtml\">\"Como a China usa a inteligência artificial para rastrear minoria étnica\"</a> publicada pela Folha em abril de 2019, é informado que o governo chinês utiliza de reconhecimento facial integrado a uma rede extensa de câmeras de vigilância para identificar exclusivamente os uigures, povo de origem turcomena, para registrar seus deslocamentos dentro do país. </p>\n",
    "\n",
    "<h2>Reconhecimento facial na solução de problemas</h2>\n",
    "\n",
    "<p> O aprendizado de máquina orientado a identificar e reconhecer padrões em imagens contribui para a solução de diversos problemas desde os mais simples como o jogo dos 7 erros aos mais complexos quando utilizados em sistemas de segurança, softwares de edição de imagens e vídeos na produção de filmes e até a controlar a produção de empresas via identicação de produtos.</p>\n",
    "\n",
    "<p> Tratando-se exclusivamente da identificação e reconhecimento de faces, os sistemas que utilizam desta tecnologia possibilitam maior entretenimento bem como segurança. Dentre as mais conhecidas temos:</p>\n",
    "\n",
    "<ul>\n",
    "    <li>Filtros aplicados em imagens para posts em redes sociais</li>\n",
    "    <li>Desloqueio de telas de celulares</li>\n",
    "    <li>Fechaduras inteligentes</li>\n",
    "    <li>Embarques em aeroportos</li>\n",
    "    <li>Controle de produção em empresas</li>\n",
    "    <li>Controle de acesso a áreas restritas</li>\n",
    "    <li>Verificação da utilização de máscaras</li>\n",
    "    <li>Reconhecimento de sentimentos</li>\n",
    "</ul>\n",
    "\n",
    "<p> E isto tudo começou com a ploriferação das selfies a qual contribuiu para aprimorar as plataformas tecnológicas. Contudo, em materia publicada pela <a href=\"https://www.uol.com.br/tilt/noticias/redacao/2018/10/11/entenda-a-tecnologia-por-tras-do-reconhecimento-facial.htm\">\"UOL\"</a> é informado que reconhecer alguém não é uma tarefa fácil onde a imagem do rosto é submetida a um algoritmo, que é treinado para identificar dezenas de pontos únicos como distâncias entre boca e nariz, marcas e cicratizes, contorno da face e formato da extremidade do rosto.</p>\n",
    "\n",
    "<h2> Descrição do problema?</h2>\n",
    "\n",
    "<p> A realização deste trabalho visa solucionar um problema real detectado na empresa a qual o autor exerce a função de analista de processos industriais no intuito de controlar e analisar as atividades da empresa e implantar melhorias por meio da tecnologia afim de levantar insights sobre a qualidade das operações.\n",
    "\n",
    "Tal empresa de porte médio atua a 30 anos no segmento de extração e comércio de minérios com ênfase em areia a qual fornece o material para diversas empresas como Votorantim Cimentos, a multinacional Kerakoll e Grupo Pav Concreto.</p>\n",
    "\n",
    "<p> Entre as analises, comparando os resultados da produção com o previsto teórico e histórico bem como a checagem dos horários de ligação dos equipamentos, foi detectado uma redução de produtividade significativa proveniente do atraso na iniciação das atividades pós almoço.</p>\n",
    "\n",
    "<h2> Justificativa</h2>\n",
    "\n",
    "<p> O atraso no retorno as operações corrobora para uma piora no rendimento hora/máquina, produtividade bem como na falta do produto em estoque, este último contornada pelo aumento da quantidade de horas extras que, consequentemente, aumentou os custo operacionais.\n",
    "\n",
    "Mediante ao atual cenário industrial onde cada vez mais as empresas investem em tecnologias capazes de aumentar sua rentabilidade, é inegável que qualquer aumento de custo impacte na capacidade competitiva da empresa, ainda mais quando ocasionado pela contrariação as normas implantadas.</p>\n",
    "\n",
    "<h2>Proposta/Solução</h2>\n",
    "\n",
    "<p> Implantar um sistema capaz de identificar a entrada e saída de funcionários ao refeitório utilizando as imagens das câmeras de segurança instaladas pela empresa e que gere, ao final do dia, um arquivo contendo o nome dos funcionários e a data e hora que entraram e saíram da instalação mencionada para que o setor de RH possa comparar tais dados com os marcados no relógio ponto. </p>\n",
    "\n",
    "<h2>Principais funcionalidades</h2>\n",
    "\n",
    "<ul>\n",
    "    <li>Conexão via TCP/IP com câmeras</li>\n",
    "    <li>Reconhecimento de rostos em tempo real via Haar Cascade (xml)</li>\n",
    "    <li>Criação do banco de dados contendo as imagens dos funcionários</li>\n",
    "    <li>Reconhecimento com LBPHFaceRecognizer</li>\n",
    "    <li>Exportação de arquivo .csv contendo nome, data e horário do reconhecimento</li>\n",
    "</ul>\n",
    "\n",
    "<h2>Prova de Conceito - PoC</h2>\n",
    "\n",
    "<p> Por solicitação do gerente geral bem como problemas internos como o acesso a rede das câmeras e equipamentos pendentes para troca, tal sistema refere-se a uma demonstração da utilização da Visão Computacional em caso real.\n",
    "\n",
    "Após a aprovação do gerente bem como a liberação ao acesso, será feito os testes em ambiente o qual será utilizado e posterior adaptação caso necessário como iluminação e até troca de posição da câmera.</p>\n"
   ]
  },
  {
   "cell_type": "markdown",
   "metadata": {},
   "source": [
    "# Importando bibliotecas"
   ]
  },
  {
   "cell_type": "markdown",
   "metadata": {},
   "source": [
    "Por conta da utilização do LBPH é requerida a versão 3.6 do Python\n",
    "\n",
    "<ul>\n",
    "    <li>cv2 refere-se a lib OpenCV a qual se utiliza para processamento e manipulação de imagens recebidas pela câmera</li>\n",
    "    <li>Numpy é utilizado na fase de treinamento do modelo quando é passado os ids dos funcionários</li>\n",
    "    <li>Datetime que a data e hora do sistema quando ocorreu o reconhecimento da face para posterior inserção, junto do nome do funcionário, em arquivo .csv</li>\n",
    "    <li>Pandas Manipulação e exportação do dataset contendo os nomes dos funcionários reconhecidos bem como a data e hora que ocorreram</li>\n",
    "</ul>"
   ]
  },
  {
   "cell_type": "code",
   "execution_count": 1,
   "metadata": {},
   "outputs": [],
   "source": [
    "import cv2\n",
    "import os\n",
    "import numpy as np\n",
    "import pandas as pd\n",
    "import face_recognition\n",
    "from datetime import datetime\n",
    "import time"
   ]
  },
  {
   "cell_type": "markdown",
   "metadata": {},
   "source": [
    "# Arquitetura da solução"
   ]
  },
  {
   "cell_type": "markdown",
   "metadata": {},
   "source": [
    "## Definição das funções"
   ]
  },
  {
   "cell_type": "markdown",
   "metadata": {},
   "source": [
    "Função savePerson tem como entrada externa o nome da pessoa para qual o rosto deve ser identificado pelo sistema, sendo alocada na variável name. A variável boolsaveimg é então definida como True.\n",
    "\n",
    "A variável boolsaveimg está a cargo de iniciar a contagem das imagens salvas na pasta para a base de dados. O salvamento inicia quando a função diretório é iniciada."
   ]
  },
  {
   "cell_type": "code",
   "execution_count": null,
   "metadata": {},
   "outputs": [],
   "source": [
    "# Função savePerson()\n",
    "def savePerson():\n",
    "    global identificacao\n",
    "    global boolsaveimg\n",
    "    print('Qual o seu nome?')\n",
    "    name = input()\n",
    "    identificacao = name\n",
    "    boolsaveimg = True"
   ]
  },
  {
   "cell_type": "markdown",
   "metadata": {},
   "source": [
    "Função diretorio recebe a imagem do rosto da pessoa a qual está sendo reconhecido e o salva em uma pasta de nome igual ao da variável identificação. Caso a pasta não exista, esta será criada antes de salvar."
   ]
  },
  {
   "cell_type": "code",
   "execution_count": 2,
   "metadata": {},
   "outputs": [],
   "source": [
    "# Função diretorio()\n",
    "def diretorio(img):\n",
    "    global identificacao\n",
    "    if not os.path.exists('train'):\n",
    "        os.makedirs('train')\n",
    "    if not os.path.exists(f'train/{identificacao}'):\n",
    "        os.makedirs(f'train/{identificacao}')\n",
    "    # Criar arquivos na pasta\n",
    "    files = os.listdir(f'train/{identificacao}')\n",
    "    cv2.imwrite(f'train/{identificacao}/{str(len(files))}.jpg', img)"
   ]
  },
  {
   "cell_type": "markdown",
   "metadata": {},
   "source": [
    "Função trainData percorre todas as pastas contidas na pasta train salvando o índice da mesma e o nome da pessoa a qual pertence em listas para posteriormente serem treinadas pelo recognizer."
   ]
  },
  {
   "cell_type": "code",
   "execution_count": null,
   "metadata": {},
   "outputs": [],
   "source": [
    "# Função trainData() - Percorre todas as pastas/pessoas do diretorio para treinar o modelo\n",
    "def trainData():\n",
    "    global recognizer\n",
    "    global trained\n",
    "    trained = True\n",
    "    persons = os.listdir('train')\n",
    "    ids = []\n",
    "    faces = []\n",
    "    for i, p in enumerate(persons):\n",
    "        for f in os.listdir(f'train/{p}'):\n",
    "            img = cv2.imread(f'train/{p}/{f}', 0)\n",
    "            faces.append(img)\n",
    "            ids.append(i)\n",
    "    recognizer.train(faces, np.array(ids))\n",
    "    print('Treino finalizado!') "
   ]
  },
  {
   "cell_type": "markdown",
   "metadata": {},
   "source": [
    "## Classes e constantes"
   ]
  },
  {
   "cell_type": "code",
   "execution_count": 3,
   "metadata": {},
   "outputs": [],
   "source": [
    "# Variáveis auxiliares\n",
    "identificacao = ''\n",
    "boolsaveimg = False\n",
    "trained = False\n",
    "saveCount = 0\n",
    "persons = os.listdir('train')\n",
    "lista_rec = []\n",
    "countrec = 0"
   ]
  },
  {
   "cell_type": "markdown",
   "metadata": {},
   "source": [
    "## XML Haar cascade para identificação dos rostos em imagem"
   ]
  },
  {
   "cell_type": "markdown",
   "metadata": {},
   "source": [
    "Para o reconhecimento de rostos na imagem foi utilizado o xml contendo o Haar Cascade, método criado por Paul Viola e Michael Jones, também conhecido por \"algoritmo de Viola-Jones\".\n",
    "\n",
    "A documentação completa do algoritmo pode ser encontrada no site da <a href=\"https://docs.opencv.org/3.4/db/d28/tutorial_cascade_classifier.html\">OpenCV</a> a qual menciona as etapas necessárias para realização da detecção de rostos em imagens.\n",
    "\n",
    "Primeiro o algoritmo é treinado com imagens positivas (contendo rostos) e negativas (sem rostos). Posteriormente são criados as features (Máscaras) que representam as características do objeto que necessitam ser reconhecidos, o que neste caso seria o rosto.\n",
    "\n",
    "<img src=\"features.png\" width=\"300px\">\n",
    "\n",
    "<blockquote>\n",
    "\"Cada feature é representado por único valor obtido subtraindo a soma dos pixels sob o retângulo branco da soma dos pixels sob o retângulo preto.\"\n",
    "</blockquote>\n",
    "\n",
    "Em cada imagem, denominado kernel, para cada feature é testado se a iluminação naquela posição condiz com a característica buscada. E como são muitos testes que geram inúmeras tentativas há a necessidade de um poder computacional enorme o qual é contornado pela realização da imagem integral a qual reduz a quantidade de cálculo necessária para cada operação. Simplificando, a documentação menciona que \"por maior que seja a sua imagem, ela reduz os cálculos de um determinado pixel a uma operação que envolve apenas quatro pixels\".\n",
    "\n",
    "Mas há um porém, dentre os inúmeros features a grande maioria tende a ter pouca representatividade ou até ser irrelevante tornando o sistema lento sem a devida necessidade.\n",
    "\n",
    "Para resolver este problema, tal algoritmo utiliza o classificador em cascata onde as features mais simples são testadas primeiramente para cada imagem. Caso a imagem não passe no teste do algoritmo, ela é descartada e a próxima imagem é analisada. No entanto, se houver coesão novas features cada vez mais complexas são testadas até que a imagem passe por todas e assim seja devidamente verificada se há o objeto a ser detectado.\n",
    "\n",
    "<img src=\"mask.png\" width=\"300px\">\n",
    "\n",
    "<blockquote>\n",
    "\"Em uma imagem, a maior parte da imagem é uma região sem rosto. Portanto, é uma ideia melhor ter um método simples para verificar se uma janela não é uma região de face. Se não estiver, descarte-o de uma vez e não processe novamente. Em vez disso, concentre-se em regiões onde pode haver um rosto. Dessa forma, gastamos mais tempo verificando possíveis regiões de rosto.\" - Paul Viola and Michael J. Jones. Robust real-time face detection. \n",
    "</blockquote>\n",
    "\n",
    "Assim consegue-se velocidade em conjunto com uma alta acurácia na idenfificação de rostos em imagens pois utiliza-se de uma série de etapas envolvendo cálculos, características dos rostos e algoritmos de otimização.\n",
    "\n",
    "Tais features, posições e pesos de cada teste estão contido no arquivo <a href=\"https://github.com/vkaique/OpenCV/blob/main/data/haarcascades/haarcascade_frontalface_default.xml\">.xml no GitHub</a>"
   ]
  },
  {
   "cell_type": "code",
   "execution_count": 6,
   "metadata": {},
   "outputs": [],
   "source": [
    "face_cascade = cv2.CascadeClassifier('haarcascade_frontalface_default.xml')"
   ]
  },
  {
   "cell_type": "markdown",
   "metadata": {},
   "source": [
    "## Reconhecedor LBPH para treino"
   ]
  },
  {
   "cell_type": "markdown",
   "metadata": {},
   "source": [
    "Posteriormente a identificação dos rostos nas imagens é necessário utilizar outra técnica para realizar o reconhecimento facial sendo as mais comuns:\n",
    "\n",
    "<ul>\n",
    "    <li>Eigenfaces</li>\n",
    "    <li>Local Binary Patterns Histograms (LBPH)</li>\n",
    "    <li>Fisherfaces</li>\n",
    "    <li>Scale Invariant Feature Transform (SIFT)</li>\n",
    "    <li>CNN da própria lib face_recognizer</li>\n",
    "    <li>Yolov4</li>\n",
    "</ul>\n",
    "\n",
    "Tratando-se do ideal, a utilização de cada algoritmo deve suprimir as necessidades em que será utilizado, pois podem apresentar acurácias diferentes entre eles. É aconselhável testá-los em ambiente igual de utilização para que assim seja possível identificar o melhor resultado.\n",
    "\n",
    "Como tal sistema será utilizado em âmbito de produção, há-se o problema de poder computacional visto que os computadores da empresa tem baixo poder computacional por utilizarem somente processadores dual-core sem placa de vídeo, onde exclui-se a possibilidade de utilizarmos redes neurais.\n",
    "\n",
    "Como Eigenfaces e fisherfaces foram os primeiros algoritmos focados em reconhecimento facial, foi escolhido o LBPH para a execução.\n",
    "\n",
    "De acordo com a <a href=\"https://docs.opencv.org/2.4/modules/contrib/doc/facerec/facerec_tutorial.html#local-binary-patterns-histograms\">documentação</a> contida no site da OpenCV, a etapa inicial denominada LBP rotula os pixels de uma determinada área em que o operador limita e retorna um número binário posteriormente transformado em decimal.\n",
    "\n",
    "<img src=\"lbp.png\" width=\"800px\">\n",
    "\n",
    "Ou seja, a janela deslizante percorre cada parte da imagem em escala de cinza extraindo a intensidade do pixel central e de sua vizinhança para que retorne um valor decimal que represente a característica de tal janela.\n",
    "\n",
    "Após ser criado uma nova imagem contendo as características da imagem orignal, é extraído os valores de cada píxel concatenando-os para criar assim um histograma da imagem que servirá como parâmetro para comparação com a imagem de teste.\n",
    "\n",
    "<img src=\"lbph.png\" width=\"800px\">"
   ]
  },
  {
   "cell_type": "code",
   "execution_count": 4,
   "metadata": {},
   "outputs": [],
   "source": [
    "# Recognizer (Reconhecedor) // Necessita instalar o LBPH - pip install opencv_contrib_python\n",
    "# conda install -c michael_wild opencv-contrib - Anaconda (Python 3.6)\n",
    "# https://anaconda.org/michael_wild/opencv-contrib\n",
    "\n",
    "recognizer = cv2.face.LBPHFaceRecognizer_create()"
   ]
  },
  {
   "cell_type": "markdown",
   "metadata": {},
   "source": [
    "## Artigo próprio"
   ]
  },
  {
   "cell_type": "markdown",
   "metadata": {},
   "source": [
    "Para maiores informações e ilustrações sobre a execução do sistema pode-se estar acessando o artigo completo pelo <a href=\"https://docs.google.com/presentation/d/1GElybGLw5cnenxZMbBgvegTOZ-cKUtsVRd1uqMxZaFQ/edit?usp=sharing\">link.</a> o qual tem autoria do mesmo autor deste notebook."
   ]
  },
  {
   "cell_type": "markdown",
   "metadata": {},
   "source": [
    "## Captura de vídeo"
   ]
  },
  {
   "cell_type": "markdown",
   "metadata": {},
   "source": [
    "O número 0 refere-se ao número identificador do hardware de vídeo instalado.\n",
    "Por padrão, o número 0 (zero) refere-se a webcam instalada no notebook.\n",
    "Para acessar uma câmera via TPC/IP, basta trocar o número pela IP em que as imagens estão sendo transmitidas."
   ]
  },
  {
   "cell_type": "code",
   "execution_count": 5,
   "metadata": {},
   "outputs": [],
   "source": [
    "cap = cv2.VideoCapture(0)"
   ]
  },
  {
   "cell_type": "markdown",
   "metadata": {},
   "source": [
    "# Loop principal para leitura das imagens transmitidas"
   ]
  },
  {
   "cell_type": "markdown",
   "metadata": {},
   "source": [
    "O loop principal lê a variável cap e insere a imagem na variável frame. Esta é redimensionada para um tamanho adequado ao monitor, transformado em escala cinza para só depois passada ao método face_cascade.detectMultiScale que retorna as posições das faces na imagem.\n",
    "\n",
    "Em seguida, a variável é iterada para retornar as posições dos eixos x e y e da altura e largura assim podendo ser copiado da imagem original e alocada na variável roi como também inserido um retângulo na imagem original que demonstre a localização da face.\n",
    "\n",
    "Posteriormente a detecção da face, é feita uma verificação se o algoritmo foi testado. Se sim, é feito a predição comparando a face reconhecida no frame original com o banco de dados onde, se a diferença for menor que 110 então a predição é aceita e colocado o nome e o valor da diferença junto a imagem original, caso contrário é informado no frame original que não há pessoas no banco de dados que se pareçam com a imagem em teste.\n",
    "\n",
    "Também há um contador que verifica quantas vezes foi feito a predição e, caso atinja 10, a pessoa reconhecida é inserida em uma lista.\n",
    "\n",
    "For fim, o loop verifica se as teclas C, S e T foram apertadas onde cada uma irá a função determinada:\n",
    "\n",
    "<ul>\n",
    "    <li>A tecla C encerra o loop</li>\n",
    "    <li>A tecla S ativa a função saveperson() a qual recebe o nome e salva as 50 imagens no banco de dados</li>\n",
    "    <li>A tecla T ativa a função trainData() a qual treina o modelo com as imagens do banco de dados</li>\n",
    "</ul>\n",
    "\n",
    "Em particular, a tecla C além de encerrar o loop também exporta a lista contendo as predições em um arquivo .csv"
   ]
  },
  {
   "cell_type": "code",
   "execution_count": 7,
   "metadata": {},
   "outputs": [
    {
     "name": "stdout",
     "output_type": "stream",
     "text": [
      "Qual o seu nome?\n",
      "vitor\n",
      "Coletado  1  de 50 imagens\n",
      "Coletado  2  de 50 imagens\n",
      "Coletado  3  de 50 imagens\n",
      "Coletado  4  de 50 imagens\n",
      "Coletado  5  de 50 imagens\n",
      "Coletado  6  de 50 imagens\n",
      "Coletado  7  de 50 imagens\n",
      "Coletado  8  de 50 imagens\n",
      "Coletado  9  de 50 imagens\n",
      "Coletado  10  de 50 imagens\n",
      "Coletado  11  de 50 imagens\n",
      "Coletado  12  de 50 imagens\n",
      "Coletado  13  de 50 imagens\n",
      "Coletado  14  de 50 imagens\n",
      "Coletado  15  de 50 imagens\n",
      "Coletado  16  de 50 imagens\n",
      "Coletado  17  de 50 imagens\n",
      "Coletado  18  de 50 imagens\n",
      "Coletado  19  de 50 imagens\n",
      "Coletado  20  de 50 imagens\n",
      "Coletado  21  de 50 imagens\n",
      "Coletado  22  de 50 imagens\n",
      "Coletado  23  de 50 imagens\n",
      "Coletado  24  de 50 imagens\n",
      "Coletado  25  de 50 imagens\n",
      "Coletado  26  de 50 imagens\n",
      "Coletado  27  de 50 imagens\n",
      "Coletado  28  de 50 imagens\n",
      "Coletado  29  de 50 imagens\n",
      "Coletado  30  de 50 imagens\n",
      "Coletado  31  de 50 imagens\n",
      "Coletado  32  de 50 imagens\n",
      "Coletado  33  de 50 imagens\n",
      "Coletado  34  de 50 imagens\n",
      "Coletado  35  de 50 imagens\n",
      "Coletado  36  de 50 imagens\n",
      "Coletado  37  de 50 imagens\n",
      "Coletado  38  de 50 imagens\n",
      "Coletado  39  de 50 imagens\n",
      "Coletado  40  de 50 imagens\n",
      "Coletado  41  de 50 imagens\n",
      "Coletado  42  de 50 imagens\n",
      "Coletado  43  de 50 imagens\n",
      "Coletado  44  de 50 imagens\n",
      "Coletado  45  de 50 imagens\n",
      "Coletado  46  de 50 imagens\n",
      "Coletado  47  de 50 imagens\n",
      "Coletado  48  de 50 imagens\n",
      "Coletado  49  de 50 imagens\n",
      "Coletado  50  de 50 imagens\n",
      "Faces coletadas!\n",
      "Treino finalizado!\n"
     ]
    }
   ],
   "source": [
    "while(True):\n",
    "\n",
    "    # Webcam para frame\n",
    "    ret, frame = cap.read()\n",
    "\n",
    "    # Resize no frame capturado\n",
    "    scale_percent = 45 # % do tamanho originals\n",
    "    width = int(frame.shape[1] * scale_percent / 100)\n",
    "    height = int(frame.shape[0] * scale_percent /100)\n",
    "    dim = (width, height)\n",
    "    frame = cv2.resize(frame, dim, interpolation = cv2.INTER_AREA)\n",
    "\n",
    "    # Frame em escala de cinza\n",
    "    gray = cv2.cvtColor(frame, cv2.COLOR_BGR2GRAY)\n",
    "\n",
    "    # Detecção da face no frame 'gray'\n",
    "    faces = face_cascade.detectMultiScale(gray, 1.3,5)\n",
    "\n",
    "    # Iterar todas as faces no frame\n",
    "    for (x,y,w,h) in faces:\n",
    "\n",
    "        # Cortar face - Roi\n",
    "        roi = gray[y:y+h, x:x+w]\n",
    "        roi = cv2.resize(roi, (50,50))\n",
    "\n",
    "        # Colocar o retângulo na face do frame 'frame'\n",
    "        cv2.rectangle(frame, (x,y), (x+w, y+h), (200,0,0), 3)\n",
    "\n",
    "        # Teste\n",
    "        if trained:\n",
    "            idp, acc = recognizer.predict(roi)\n",
    "            acc = int(acc)\n",
    "            if len(persons) != 0:\n",
    "                if acc < 110: # para não ficar salvando todo reconhecimento, ou seja, cria um limitador de vezes que ele salva a pessoa reconhecida\n",
    "                    namePerson = persons[idp] + '  ' + str(acc)\n",
    "                    cv2.putText(frame, namePerson, (x,y), 3,2, (0,255,0), 2, cv2.LINE_AA)\n",
    "                    countrec += 1\n",
    "\n",
    "                    if countrec == 10:\n",
    "                        now = datetime.now().strftime(\"%d/%m/%Y %H:%M:%S\")         \n",
    "                        p_rec = now + ' ' +  persons[idp]\n",
    "                        lista_rec.append(p_rec)\n",
    "                        countrec = 0\n",
    "                else:\n",
    "                    namePerson = 'ND' + str(acc)\n",
    "                    cv2.putText(frame, namePerson, (x,y), 3,2, (0,255,0), 2, cv2.LINE_AA)\n",
    "\n",
    "        # Checa boolsaveimg\n",
    "        if boolsaveimg:\n",
    "            diretorio(roi)\n",
    "            saveCount += 1\n",
    "            print('Coletado ', saveCount, ' de 50 imagens')\n",
    "\n",
    "        # Contador Stop save img\n",
    "        if saveCount >= 50:\n",
    "            boolsaveimg = False\n",
    "            saveCount = 0\n",
    "            print('Faces coletadas!')\n",
    "            persons = os.listdir('train')\n",
    "    \n",
    "    # Exibir o frame\n",
    "    cv2.imshow('frame', frame)\n",
    "\n",
    "    # Recupera botão pressionado\n",
    "    key = cv2.waitKey(1)\n",
    "\n",
    "    # Close loop\n",
    "    if key == ord('c'):\n",
    "        #salva o arquivo .csv antes finalizar o sistema\n",
    "        year = str(datetime.today().year)\n",
    "        month = str(datetime.today().month)\n",
    "        day = str(datetime.today().day)\n",
    "        namecsv = year + month + day + '.csv'\n",
    "        df = pd.DataFrame(data = lista_rec)\n",
    "        df.to_csv(namecsv, sep = ' ')\n",
    "        break\n",
    "\n",
    "    # Salvar imagens\n",
    "    if key == ord('s'):\n",
    "        savePerson()\n",
    "\n",
    "    # Treinamento do modelo\n",
    "    if key == ord('t'):\n",
    "        trainData()\n",
    "\n",
    "# fechamento da janela e reinicialização da mesma\n",
    "cap.release()\n",
    "cv2.destroyAllWindows()"
   ]
  }
 ],
 "metadata": {
  "kernelspec": {
   "display_name": "Python 3",
   "language": "python",
   "name": "python3"
  },
  "language_info": {
   "codemirror_mode": {
    "name": "ipython",
    "version": 3
   },
   "file_extension": ".py",
   "mimetype": "text/x-python",
   "name": "python",
   "nbconvert_exporter": "python",
   "pygments_lexer": "ipython3",
   "version": "3.7.3"
  }
 },
 "nbformat": 4,
 "nbformat_minor": 2
}
